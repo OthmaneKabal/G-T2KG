{
 "cells": [
  {
   "cell_type": "code",
   "execution_count": 1,
   "id": "13561ed0",
   "metadata": {},
   "outputs": [],
   "source": [
    "import re\n",
    "import json\n",
    "\n",
    "class TripletExtractionConverter:\n",
    "    def __init__(self, data_path, output_path):\n",
    "        self.data_path = data_path\n",
    "        self.output_path = output_path\n",
    "        self.triples_data = []\n",
    "        \n",
    "    def extract_triplets(self):\n",
    "        with open(self.data_path, 'r') as file:\n",
    "            data = file.read()\n",
    "        sentences_and_triplets = re.split(r'\\n\\n', data)\n",
    "       \n",
    "#         triplets_data = []\n",
    "        for sentence_and_triplet in sentences_and_triplets:\n",
    "            lines = sentence_and_triplet.strip().split('\\n')\n",
    "            sentence = lines[0]\n",
    "            triplets = lines[1:]\n",
    "            for triplet in triplets:\n",
    "                confidence, triplet_data = triplet.split(': ', 1)\n",
    "                subject, predicate, obj = re.search(r'\\((.*?); (.*?); (.*?)\\)', triplet_data).groups()\n",
    "                self.triples_data.append({\n",
    "                    'sentence': sentence,\n",
    "                    'subject': subject,\n",
    "                    'predicate': predicate,\n",
    "                    'object': obj,\n",
    "                    'confidence': float(confidence)\n",
    "                })\n",
    "                \n",
    "    def write_to_json(self):\n",
    "        with open(self.output_path, 'w', encoding='utf-8') as jsonfile:\n",
    "            json.dump(self.triples_data, jsonfile, ensure_ascii=False, indent=2)\n",
    "    \n",
    "    def run(self):\n",
    "        self.extract_triplets()\n",
    "        self.write_to_json()\n",
    "            "
   ]
  },
  {
   "cell_type": "code",
   "execution_count": 2,
   "id": "9730f7e9",
   "metadata": {},
   "outputs": [],
   "source": [
    "if __name__ == \"__main__\":\n",
    "    input_file_path = \"C:/Users/admin-user/Desktop/my_phd/implementations_KG/src/informations_extraction/OIE_outputs/oie_Benchoutput.txt.oie\"\n",
    "    output_json_file_path = \"C:/Users/admin-user/Desktop/my_phd/implementations_KG/src/informations_extraction/OIE_outputs/oie_Bench_triples.json\"\n",
    "    tec = TripletExtractionConverter(input_file_path,output_json_file_path)\n",
    "    tec.run()"
   ]
  },
  {
   "cell_type": "code",
   "execution_count": null,
   "id": "b07025d3-d5af-4e88-90b4-c00c9297475d",
   "metadata": {},
   "outputs": [],
   "source": []
  }
 ],
 "metadata": {
  "kernelspec": {
   "display_name": "Python 3 (ipykernel)",
   "language": "python",
   "name": "python3"
  },
  "language_info": {
   "codemirror_mode": {
    "name": "ipython",
    "version": 3
   },
   "file_extension": ".py",
   "mimetype": "text/x-python",
   "name": "python",
   "nbconvert_exporter": "python",
   "pygments_lexer": "ipython3",
   "version": "3.8.18"
  }
 },
 "nbformat": 4,
 "nbformat_minor": 5
}
