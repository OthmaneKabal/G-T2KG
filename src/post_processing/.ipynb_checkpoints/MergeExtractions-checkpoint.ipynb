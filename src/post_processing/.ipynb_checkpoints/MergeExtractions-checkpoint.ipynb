{
 "cells": [
  {
   "cell_type": "code",
   "execution_count": 6,
   "id": "4cddfe62-7559-41b9-b54f-acf6a5d20550",
   "metadata": {},
   "outputs": [],
   "source": [
    "import json\n",
    "import sys\n",
    "sys.path.append('../utilities')\n",
    "import utilities as u\n",
    "class MergeExtractions:\n",
    "    def __init__(self,hyponyms_path, openie_path, output_path):\n",
    "        self.hyponyms_path = hyponyms_path\n",
    "        self.openie_path = openie_path\n",
    "        self.output_path = output_path\n",
    "        self.hyponyms_triplets = self.get_hyp_triplets()\n",
    "        self.openie_triplets = self.get_oie_triplets()\n",
    "        self.results = []\n",
    "\n",
    "    \n",
    "    def get_hyp_triplets(self):\n",
    "        return u.read_json_file(self.hyponyms_path)\n",
    "    def get_oie_triplets(self):\n",
    "        return u.read_json_file(self.openie_path)\n",
    "    def mergeAndsave(self):\n",
    "        self.results = self.hyponyms_triplets + self.openie_triplets\n",
    "        u.save_to_json(self.output_path, self.results)"
   ]
  },
  {
   "cell_type": "code",
   "execution_count": 7,
   "id": "540c0b00-e892-4694-8a58-4a9f657e83cb",
   "metadata": {},
   "outputs": [],
   "source": [
    "output_path = \"C:/Users/admin-user/Desktop/my_phd/implementations_KG/src/post_processing/syntactic_cleaning/Bench_merged_triples.json\"\n",
    "openie_path =  \"C:/Users/admin-user/Desktop/my_phd/implementations_KG/src/post_processing/Bench_withoutGPT.json\"\n",
    "hyponyms_path = \"C:/Users/admin-user/Desktop/my_phd/implementations_KG/src/informations_extraction/hyponyms_outputs/hyp_Cs-Bench.json\"\n",
    "me = MergeExtractions(hyponyms_path, openie_path, output_path)\n",
    "me.mergeAndsave()"
   ]
  },
  {
   "cell_type": "code",
   "execution_count": 9,
   "id": "0161571b-19b6-450c-bf8f-af2f1e5beeb6",
   "metadata": {},
   "outputs": [
    {
     "data": {
      "text/plain": [
       "201"
      ]
     },
     "execution_count": 9,
     "metadata": {},
     "output_type": "execute_result"
    }
   ],
   "source": [
    "len(me.results)"
   ]
  }
 ],
 "metadata": {
  "kernelspec": {
   "display_name": "Python 3 (ipykernel)",
   "language": "python",
   "name": "python3"
  },
  "language_info": {
   "codemirror_mode": {
    "name": "ipython",
    "version": 3
   },
   "file_extension": ".py",
   "mimetype": "text/x-python",
   "name": "python",
   "nbconvert_exporter": "python",
   "pygments_lexer": "ipython3",
   "version": "3.8.18"
  }
 },
 "nbformat": 4,
 "nbformat_minor": 5
}
