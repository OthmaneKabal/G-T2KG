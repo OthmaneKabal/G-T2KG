{
 "cells": [
  {
   "cell_type": "code",
   "execution_count": 2,
   "id": "4cddfe62-7559-41b9-b54f-acf6a5d20550",
   "metadata": {},
   "outputs": [],
   "source": [
    "import json\n",
    "import sys\n",
    "sys.path.append('../utilities')\n",
    "import utilities as u\n",
    "class MergeExtractions:\n",
    "    def __init__(self,hyponyms_path, openie_path, output_path):\n",
    "        self.hyponyms_path = hyponyms_path\n",
    "        self.openie_path = openie_path\n",
    "        self.output_path = output_path\n",
    "        self.hyponyms_triplets = self.get_hyp_triplets()\n",
    "        self.openie_triplets = self.get_oie_triplets()\n",
    "        self.results = []\n",
    "\n",
    "    \n",
    "    def get_hyp_triplets(self):\n",
    "        return u.read_json_file(self.hyponyms_path)\n",
    "    def get_oie_triplets(self):\n",
    "        return self.delete_duplicate(u.read_json_file(self.openie_path))\n",
    "    def mergeAndsave(self):\n",
    "        self.results = self.hyponyms_triplets + self.openie_triplets\n",
    "        u.save_to_json(self.output_path, self.results)\n",
    "        \n",
    "    def delete_duplicate(self,data):\n",
    "        unique_entries = {}\n",
    "        for entry in data:\n",
    "            key = (entry['sentence'], entry['subject'], entry['predicate'], entry['object'])\n",
    "            if key not in unique_entries or unique_entries[key]['confidence'] < entry['confidence']:\n",
    "                unique_entries[key] = entry\n",
    "        cleaned_data = list(unique_entries.values())\n",
    "        return cleaned_data"
   ]
  },
  {
   "cell_type": "code",
   "execution_count": 4,
   "id": "540c0b00-e892-4694-8a58-4a9f657e83cb",
   "metadata": {},
   "outputs": [],
   "source": [
    "#### With GPT\n",
    "output_path = \"C:/Users/admin-user/Desktop/my_phd/implementations_KG/src/post_processing/Bench_merged_withGPT.json\"\n",
    "openie_path =  \"C:/Users/admin-user/Desktop/my_phd/implementations_KG/src/post_processing/Bench_withGPT.json\"\n",
    "hyponyms_path = \"C:/Users/admin-user/Desktop/my_phd/implementations_KG/src/informations_extraction/hyponyms_outputs/hyp_Cs-Bench.json\"\n",
    "me = MergeExtractions(hyponyms_path, openie_path, output_path)\n",
    "me.mergeAndsave()"
   ]
  },
  {
   "cell_type": "code",
   "execution_count": 19,
   "id": "ee4c51d6-aa6d-4b7a-a388-07c9549e2cf9",
   "metadata": {},
   "outputs": [],
   "source": [
    "# Without GPT\n",
    "## Computer science\n",
    "# output_path = \"C:/Users/admin-user/Desktop/my_phd/implementations_KG/src/post_processing/Bench_merged_withoutGPT.json\"\n",
    "# openie_path =  \"C:/Users/admin-user/Desktop/my_phd/implementations_KG/src/post_processing/Bench_withoutGPT.json\"\n",
    "# hyponyms_path = \"C:/Users/admin-user/Desktop/my_phd/implementations_KG/src/informations_extraction/hyponyms_outputs/hyp_Cs-Bench.json\"\n",
    "\n",
    "## Music\n",
    "output_path = \"C:/Users/admin-user/Desktop/my_phd/implementations_KG/src/post_processing/MusicBench_merged_withGPT.json\"\n",
    "openie_path =  \"C:/Users/admin-user/Desktop/my_phd/implementations_KG/src/post_processing/MusicBench_withGPT.json\"\n",
    "hyponyms_path = \"C:/Users/admin-user/Desktop/my_phd/implementations_KG/src/informations_extraction/hyponyms_outputs/hyp_Music-Bench.json\"\n",
    "me = MergeExtractions(hyponyms_path, openie_path, output_path)\n",
    "me.mergeAndsave()"
   ]
  },
  {
   "cell_type": "code",
   "execution_count": 20,
   "id": "0161571b-19b6-450c-bf8f-af2f1e5beeb6",
   "metadata": {},
   "outputs": [
    {
     "data": {
      "text/plain": [
       "380"
      ]
     },
     "execution_count": 20,
     "metadata": {},
     "output_type": "execute_result"
    }
   ],
   "source": [
    "len(me.results)"
   ]
  },
  {
   "cell_type": "code",
   "execution_count": 14,
   "id": "77e046bf-f757-4ebb-b7c4-f767628bf641",
   "metadata": {},
   "outputs": [
    {
     "data": {
      "text/plain": [
       "185"
      ]
     },
     "execution_count": 14,
     "metadata": {},
     "output_type": "execute_result"
    }
   ],
   "source": []
  },
  {
   "cell_type": "code",
   "execution_count": null,
   "id": "cf95cafa-677c-41c1-9bf4-bcd60b00c120",
   "metadata": {},
   "outputs": [],
   "source": []
  }
 ],
 "metadata": {
  "kernelspec": {
   "display_name": "Python 3 (ipykernel)",
   "language": "python",
   "name": "python3"
  },
  "language_info": {
   "codemirror_mode": {
    "name": "ipython",
    "version": 3
   },
   "file_extension": ".py",
   "mimetype": "text/x-python",
   "name": "python",
   "nbconvert_exporter": "python",
   "pygments_lexer": "ipython3",
   "version": "3.8.18"
  }
 },
 "nbformat": 4,
 "nbformat_minor": 5
}
