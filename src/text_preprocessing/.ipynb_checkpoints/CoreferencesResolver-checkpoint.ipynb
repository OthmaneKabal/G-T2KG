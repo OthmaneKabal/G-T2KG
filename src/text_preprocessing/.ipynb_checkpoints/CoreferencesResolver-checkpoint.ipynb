{
 "cells": [
  {
   "cell_type": "code",
   "execution_count": 40,
   "id": "d3d1c692-2012-438f-b10e-d5a8c235fbb9",
   "metadata": {},
   "outputs": [],
   "source": [
    "# ## coref-env\n",
    "from spacy.tokens import Doc\n",
    "import spacy\n",
    "import json\n",
    "import copy\n",
    "\n",
    "###add to utilities\n",
    "def read_json_file(file_path):\n",
    "    \"\"\"\n",
    "    Read a JSON file and return its contents as a Python dictionary.\n",
    "\n",
    "    :param file_path: The path to the JSON file.\n",
    "    :type file_path: str\n",
    "    :return: A dictionary representing the JSON data.\n",
    "    :rtype: dict\n",
    "    \"\"\"\n",
    "    try:\n",
    "        with open(file_path, 'r', encoding='utf-8') as file:\n",
    "            data = json.load(file)\n",
    "            return data\n",
    "    except FileNotFoundError:\n",
    "        print(f\"File not found: {file_path}\")\n",
    "    except json.JSONDecodeError as e:\n",
    "        print(f\"Error decoding JSON in file {file_path}: {e}\")\n",
    "    except Exception as e:\n",
    "        print(f\"An error occurred while reading the file {file_path}: {e}\")\n",
    "\n",
    "#export a json file\n",
    "def save_json_file(output_path,json_data):\n",
    "    with open(output_path, 'w') as json_file:\n",
    "        json.dump(json_data, json_file, indent=2)\n",
    "        print(\"file was saved succesfully\")\n",
    "\n",
    "\n",
    "\n",
    "class CoreferencesResolver:\n",
    "\n",
    "    def __init__(self, data_path, output_path):\n",
    "        self.data_path = data_path\n",
    "        self.output_path = output_path\n",
    "        self.data = {}\n",
    "        self.result_data = {}\n",
    "\n",
    "\n",
    "    def replace_references(self,doc: Doc) -> str:\n",
    "        \"\"\"Function for resolving references with the coref ouput\n",
    "        doc (Doc): The Doc object processed by the coref pipeline\n",
    "        RETURNS (str): The Doc string with resolved references\n",
    "        \"\"\"\n",
    "        # token.idx : token.text\n",
    "        token_mention_mapper = {}\n",
    "        output_string = \"\"\n",
    "        clusters = [\n",
    "            val for key, val in doc.spans.items() if key.startswith(\"coref_cluster\")\n",
    "        ]\n",
    "    \n",
    "        # Iterate through every found cluster\n",
    "        for cluster in clusters:\n",
    "            first_mention = cluster[0]\n",
    "            # Iterate through every other span in the cluster\n",
    "            for mention_span in list(cluster)[1:]:\n",
    "                # Set first_mention as value for the first token in mention_span in the token_mention_mapper\n",
    "                token_mention_mapper[mention_span[0].idx] = first_mention.text + mention_span[0].whitespace_\n",
    "                \n",
    "                for token in mention_span[1:]:\n",
    "                    # Set empty string for all the other tokens in mention_span\n",
    "                    token_mention_mapper[token.idx] = \"\"\n",
    "    \n",
    "        # Iterate through every token in the Doc\n",
    "        for token in doc:\n",
    "            # Check if token exists in token_mention_mapper\n",
    "            if token.idx in token_mention_mapper:\n",
    "                output_string += token_mention_mapper[token.idx]\n",
    "            # Else add original token text\n",
    "            else:\n",
    "                output_string += token.text + token.whitespace_\n",
    "\n",
    "        return output_string\n",
    "\n",
    "    def coreference_resolver(self,text,coref_spacy):\n",
    "        doc = coref_spacy(text)\n",
    "        return self.replace_references(doc)\n",
    "\n",
    "    \n",
    "    def corpus_coreferences_resolution(self):\n",
    "        coref_spacy = spacy.load(\"en_coreference_web_trf\")\n",
    "        self.data = read_json_file(self.data_path)\n",
    "        temp_data = copy.deepcopy(self.data)\n",
    "        for element in self.data:\n",
    "           temp_data[element][\"abstract\"] = self.coreference_resolver(self.data[element][\"abstract\"],coref_spacy)\n",
    "            \n",
    "        self.result_data = temp_data\n",
    "        save_json_file(self.output_path, self.result_data)"
   ]
  },
  {
   "cell_type": "code",
   "execution_count": 41,
   "id": "e9697ba9-1c44-4f26-8e6e-f8050de75b73",
   "metadata": {},
   "outputs": [],
   "source": [
    "data_path = \"C:/Users/admin-user/Desktop/my_phd/implementations_KG/data/ziwei_cs_data/3_examples.json\"\n",
    "output_path = \"C:/Users/admin-user/Desktop/my_phd/implementations_KG/data/ziwei_cs_data/3_examples_coref.json\"\n",
    "cr = CoreferencesResolver(data_path,output_path)"
   ]
  },
  {
   "cell_type": "code",
   "execution_count": 42,
   "id": "191eadd6-8452-4a17-8986-9a58e8f38d67",
   "metadata": {},
   "outputs": [
    {
     "name": "stdout",
     "output_type": "stream",
     "text": [
      "file was saved succesfully\n"
     ]
    }
   ],
   "source": [
    "cr.corpus_coreferences_resolution()"
   ]
  },
  {
   "cell_type": "code",
   "execution_count": 43,
   "id": "2da8754f-083d-41ce-a50d-2fb81d62faa3",
   "metadata": {},
   "outputs": [],
   "source": [
    "result = read_json_file(output_path)"
   ]
  }
 ],
 "metadata": {
  "kernelspec": {
   "display_name": "Python 3 (ipykernel)",
   "language": "python",
   "name": "python3"
  },
  "language_info": {
   "codemirror_mode": {
    "name": "ipython",
    "version": 3
   },
   "file_extension": ".py",
   "mimetype": "text/x-python",
   "name": "python",
   "nbconvert_exporter": "python",
   "pygments_lexer": "ipython3",
   "version": "3.9.18"
  }
 },
 "nbformat": 4,
 "nbformat_minor": 5
}
