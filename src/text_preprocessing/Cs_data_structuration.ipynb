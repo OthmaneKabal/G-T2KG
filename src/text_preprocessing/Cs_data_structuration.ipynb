{
 "cells": [
  {
   "cell_type": "code",
   "execution_count": 11,
   "id": "484c9052-ce32-4242-9336-20141fb3d9ef",
   "metadata": {},
   "outputs": [],
   "source": [
    "import json\n",
    "class DataStructuration:\n",
    "    def __init__(self, corpora_path, output_path):\n",
    "        self.corpora_path = corpora_path\n",
    "        self.output_path = output_path\n",
    "        self.abstracts = []\n",
    "        self.result_data = {}\n",
    "        \n",
    "    # this function split the corpora to get a list of abstacts (with keywords) \n",
    "    def get_statements(self):\n",
    "        abstracts = []\n",
    "        with open(self.corpora_path, 'r', encoding='utf-8') as fichier:\n",
    "        ## read line by line because the \n",
    "            for ligne in fichier:\n",
    "                abstracts.append(ligne.strip())\n",
    "            self.abstracts = abstracts\n",
    "            # return abstracts\n",
    "\n",
    "    ## this method split the statments to get a json file that contains abstracts and keywords \n",
    "    def split_keywords_abstract(self):\n",
    "        i = 0\n",
    "        json_data = {}\n",
    "        for abs in self.abstracts:\n",
    "            splited_abs = abs.split('        ') ## le séparateur est 8 espaces\n",
    "            if (len(splited_abs) ==2):\n",
    "                keywords = splited_abs[0]\n",
    "                keywords = keywords.split(\";\")\n",
    "                abstract = splited_abs[1]\n",
    "                i= i+1\n",
    "                id_ = \"{:05d}\".format(i)\n",
    "                json_data[f\"paper_{id_}\"] = {\n",
    "                \"abstract\": abstract,\n",
    "                \"keywords\": keywords,\n",
    "                \"id\": id_,\n",
    "                \"papertitle\": \"\",\n",
    "                    \"_id\": str(id_)\n",
    "                }\n",
    "            else:\n",
    "                splited_abs = abs.split('     ') ## le séparateur est 4 espaces\n",
    "                if (len(splited_abs) ==2):\n",
    "                    keywords = splited_abs[0]\n",
    "                    keywords = keywords.split(\";\")\n",
    "                    abstract = splited_abs[1]\n",
    "                    i= i+1\n",
    "                    id_ = \"{:05d}\".format(i)\n",
    "                    json_data[f\"paper_{id_}\"] = {\n",
    "                    \"abstract\": abstract,\n",
    "                    \"keywords\": keywords,\n",
    "                    \"_id\": id_,\n",
    "                    \"papertitle\": \"\",\n",
    "                    \"language\": [\"en\"]\n",
    "                    }\n",
    "                else:\n",
    "                #print(splited_abs) \n",
    "                    print(\"pass\")\n",
    "        self.result_data =   json_data          \n",
    "        # return json_data\n",
    "\n",
    "    #export a json file \n",
    "    def export_structured_data(self):\n",
    "        with open(self.output_path, 'w') as json_file:\n",
    "            json.dump(self.result_data, json_file, indent=0)\n",
    "            print(\"file was saved succesfully\")\n",
    "\n",
    "    def run(self):\n",
    "        self.get_statements()\n",
    "        self.split_keywords_abstract()\n",
    "        self.export_structured_data()"
   ]
  },
  {
   "cell_type": "code",
   "execution_count": 12,
   "id": "2319b87f-711c-4a46-a0ba-fdd5e06ff821",
   "metadata": {},
   "outputs": [
    {
     "name": "stdout",
     "output_type": "stream",
     "text": [
      "pass\n",
      "pass\n",
      "file was saved succesfully\n"
     ]
    }
   ],
   "source": [
    "input_path = \"C:/Users/admin-user/Desktop/my_phd/implementations_KG/data/ziwei_cs_data/cs_raw_corpus.txt\"\n",
    "output_path = \"C:/Users/admin-user/Desktop/my_phd/implementations_KG/data/ziwei_cs_data/cs_raw_corpus.json\"\n",
    "ds = DataStructuration(input_path, output_path)\n",
    "ds.run()"
   ]
  }
 ],
 "metadata": {
  "kernelspec": {
   "display_name": "Python 3 (ipykernel)",
   "language": "python",
   "name": "python3"
  },
  "language_info": {
   "codemirror_mode": {
    "name": "ipython",
    "version": 3
   },
   "file_extension": ".py",
   "mimetype": "text/x-python",
   "name": "python",
   "nbconvert_exporter": "python",
   "pygments_lexer": "ipython3",
   "version": "3.11.5"
  }
 },
 "nbformat": 4,
 "nbformat_minor": 5
}
